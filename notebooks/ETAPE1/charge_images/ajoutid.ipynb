{
 "cells": [
  {
   "cell_type": "code",
   "execution_count": null,
   "metadata": {},
   "outputs": [],
   "source": [
    "!pip install datasets"
   ]
  },
  {
   "cell_type": "code",
   "execution_count": null,
   "metadata": {},
   "outputs": [],
   "source": [
    "from datasets import load_from_disk\n",
    "import uuid\n",
    "# Chemin pour charger les datasets\n",
    "results_dir = '/mnt/d/DVPT/projet/data/'\n",
    "\n",
    "# Charger les datasets enregistrés\n",
    "train_dataset = load_from_disk(os.path.join(results_dir, 'train_dataset'))\n",
    "\n",
    "def ajouter_identifiant(exemple, idx):\n",
    "    exemple['image_ID'] = uuid.uuid4()\n",
    "    return exemple\n",
    "\n",
    "dataset = dataset.map(ajouter_identifiant, with_indices=True)\n",
    "train_dataset.save_to_disk(os.path.join(results_dir, 'train_dataset_ID'))"
   ]
  }
 ],
 "metadata": {
  "language_info": {
   "name": "python"
  }
 },
 "nbformat": 4,
 "nbformat_minor": 2
}
